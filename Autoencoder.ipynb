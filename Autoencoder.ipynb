{
 "cells": [
  {
   "cell_type": "markdown",
   "metadata": {},
   "source": [
    "# Deep Learning - Autoencoder"
   ]
  },
  {
   "cell_type": "code",
   "execution_count": 1,
   "metadata": {},
   "outputs": [
    {
     "name": "stderr",
     "output_type": "stream",
     "text": [
      "Using TensorFlow backend.\n"
     ]
    }
   ],
   "source": [
    "# Import packages\n",
    "import numpy as np\n",
    "import pandas as pd\n",
    "import matplotlib.pyplot as plt\n",
    "\n",
    "from keras.layers import Input, Dense\n",
    "from keras.models import Model\n",
    "from keras.utils.np_utils import to_categorical"
   ]
  },
  {
   "cell_type": "code",
   "execution_count": 2,
   "metadata": {},
   "outputs": [],
   "source": [
    "# Set parameters\n",
    "image_length = 784\n",
    "encoding_dim = 200\n",
    "encoding_dim_2 = 45\n",
    "\n",
    "train_size = 15000\n",
    "validation_size = 5000"
   ]
  },
  {
   "cell_type": "markdown",
   "metadata": {},
   "source": [
    "## Importing data\n",
    "We import the data with Pandas and then convert these to NumPy arrays. Since the pixel values range between 0 and 255, we may need to convert them to percentage white versus black. We do this by dividing by 255."
   ]
  },
  {
   "cell_type": "code",
   "execution_count": null,
   "metadata": {},
   "outputs": [],
   "source": [
    "# Import and convert data to percentage points (divide by 255, the max gray scale value)\n",
    "x_train = pd.read_csv(\"data/mnist_train.csv\", header = None)\n",
    "y_train = x_train.loc[:, 0].to_numpy()\n",
    "x_train = x_train.loc[:, 1:].to_numpy()\n",
    "x_train = x_train.astype('float32') / 255.\n",
    "\n",
    "x_test = pd.read_csv(\"data/mnist_test.csv\", header = None)\n",
    "y_test = x_test.loc[:, 0].to_numpy()\n",
    "x_test = x_test.loc[:, 1:].to_numpy()\n",
    "x_test = x_test.astype('float32') / 255."
   ]
  },
  {
   "cell_type": "markdown",
   "metadata": {},
   "source": [
    "After this, we split the train data since we need to keep the test set separate for the final part. We take the first 15,000 images for training, the next 5,000 for validation, and the rest for testing the autoencoding part."
   ]
  },
  {
   "cell_type": "code",
   "execution_count": null,
   "metadata": {},
   "outputs": [],
   "source": [
    "# Take samples for training and testing. Note that we cannot take the test set yet, as we will use this when the\n",
    "# full network is completed in R\n",
    "x_validation = x_train[train_size:(train_size+validation_size), :]\n",
    "x_train_input = x_train[(train_size+validation_size):, :]\n",
    "x_train = x_train[:train_size, :]\n",
    "y_train_input = y_train[(train_size+validation_size):]\n",
    "y_validation = y_train[train_size:(train_size+validation_size)]"
   ]
  },
  {
   "cell_type": "markdown",
   "metadata": {},
   "source": [
    "Lastly, we convert single labels into one-hot encoded variables (e.g. the label \"5\" is now converted to the 5th unit vector)."
   ]
  },
  {
   "cell_type": "code",
   "execution_count": 3,
   "metadata": {},
   "outputs": [],
   "source": [
    "# Create one-hot-encoded versions of the data\n",
    "y_train_input_ohe = to_categorical(y_train_input)\n",
    "y_validation_ohe = to_categorical(y_validation)\n",
    "y_test_ohe = to_categorical(y_test)"
   ]
  },
  {
   "cell_type": "markdown",
   "metadata": {},
   "source": [
    "## Create autoencoder\n",
    "We first create an autoencoder that is abkle to reduce an image of length 784 to 45 features. The warning can be ignored (for now) as it is a deprecation warning."
   ]
  },
  {
   "cell_type": "code",
   "execution_count": 4,
   "metadata": {},
   "outputs": [
    {
     "name": "stdout",
     "output_type": "stream",
     "text": [
      "WARNING:tensorflow:From C:\\Users\\mikew\\Anaconda3\\lib\\site-packages\\tensorflow\\python\\framework\\op_def_library.py:263: colocate_with (from tensorflow.python.framework.ops) is deprecated and will be removed in a future version.\n",
      "Instructions for updating:\n",
      "Colocations handled automatically by placer.\n"
     ]
    }
   ],
   "source": [
    "input_img = Input(shape = (image_length,))\n",
    "encoded = Dense(encoding_dim, activation='relu')(input_img)\n",
    "encoded = Dense(encoding_dim_2, activation='relu')(encoded)\n",
    "\n",
    "decoded = Dense(encoding_dim, activation='relu')(encoded)\n",
    "decoded = Dense(image_length, activation='sigmoid')(decoded)\n",
    "\n",
    "encoder = Model(input_img, encoded)"
   ]
  },
  {
   "cell_type": "markdown",
   "metadata": {},
   "source": [
    "We then perform a grid search for the best number of epochs and batch size. In the first iteration, with possible epochs 11, 12, and 13 and possible batch sizes 32, 64, 128, 256, we find that 12 epochs is deemed optimal with batch size 128, usually closely followed by 13 epochs and batch size 64. As such, we run another grid search for possible epochs 12 up to 20 and possible batch sizes 64 and 128."
   ]
  },
  {
   "cell_type": "code",
   "execution_count": 5,
   "metadata": {
    "scrolled": true
   },
   "outputs": [
    {
     "name": "stdout",
     "output_type": "stream",
     "text": [
      "Epochs: 12\n",
      "Batch size: 64\n",
      "WARNING:tensorflow:From C:\\Users\\mikew\\Anaconda3\\lib\\site-packages\\tensorflow\\python\\ops\\math_ops.py:3066: to_int32 (from tensorflow.python.ops.math_ops) is deprecated and will be removed in a future version.\n",
      "Instructions for updating:\n",
      "Use tf.cast instead.\n",
      "Batch size: 128\n",
      "Epochs: 13\n",
      "Batch size: 64\n",
      "Batch size: 128\n",
      "Epochs: 14\n",
      "Batch size: 64\n",
      "Batch size: 128\n",
      "Epochs: 15\n",
      "Batch size: 64\n",
      "Batch size: 128\n",
      "Epochs: 16\n",
      "Batch size: 64\n",
      "Batch size: 128\n",
      "Epochs: 17\n",
      "Batch size: 64\n",
      "Batch size: 128\n",
      "Epochs: 18\n",
      "Batch size: 64\n",
      "Batch size: 128\n",
      "Epochs: 19\n",
      "Batch size: 64\n",
      "Batch size: 128\n",
      "Best accuracy: 0.8133102106094361, best epochs: 19, best batch_size: 128\n"
     ]
    }
   ],
   "source": [
    "# Grid Search - after finding epochs=12 and batch_size=128 was the best\n",
    "best_acc = 0\n",
    "\n",
    "for epoch in range(12, 21):\n",
    "    print(f\"Epochs: {epoch}\")\n",
    "    for batch_size in [64, 128]:\n",
    "        print(f\"Batch size: {batch_size}\")\n",
    "        \n",
    "        autoencoder = Model(input_img, decoded)\n",
    "        autoencoder.compile(optimizer='adam', loss='binary_crossentropy', metrics=['accuracy'])\n",
    "        \n",
    "        history = autoencoder.fit(x_train, x_train,\n",
    "                          epochs=epoch, batch_size=batch_size,\n",
    "                          shuffle=True, verbose = 0,\n",
    "                          validation_data=(x_validation, x_validation))\n",
    "        \n",
    "        if (history.history['loss'][-1] > history.history['val_loss'][-1]):\n",
    "            print(\"Overfitting!\")\n",
    "            next\n",
    "            \n",
    "        validation_acc = history.history['val_acc'][-1]\n",
    "        \n",
    "        if (validation_acc > best_acc):\n",
    "            best_acc = validation_acc\n",
    "            best_epoch = epoch\n",
    "            best_batch_size = batch_size\n",
    "            \n",
    "print(f\"Best accuracy: {best_acc}, best epochs: {best_epoch}, best batch_size: {best_batch_size}\")"
   ]
  },
  {
   "cell_type": "markdown",
   "metadata": {},
   "source": [
    "The parameters found in this grid search are then used to train the autoencoder."
   ]
  },
  {
   "cell_type": "code",
   "execution_count": 6,
   "metadata": {
    "scrolled": true
   },
   "outputs": [
    {
     "name": "stdout",
     "output_type": "stream",
     "text": [
      "Train on 5000 samples, validate on 5000 samples\n",
      "Epoch 1/19\n",
      " - 4s - loss: 0.0742 - acc: 0.8153 - val_loss: 0.0853 - val_acc: 0.8133\n",
      "Epoch 2/19\n",
      " - 1s - loss: 0.0721 - acc: 0.8154 - val_loss: 0.0851 - val_acc: 0.8132\n",
      "Epoch 3/19\n",
      " - 1s - loss: 0.0721 - acc: 0.8154 - val_loss: 0.0853 - val_acc: 0.8133\n",
      "Epoch 4/19\n",
      " - 1s - loss: 0.0722 - acc: 0.8154 - val_loss: 0.0854 - val_acc: 0.8133\n",
      "Epoch 5/19\n",
      " - 1s - loss: 0.0722 - acc: 0.8154 - val_loss: 0.0852 - val_acc: 0.8133\n",
      "Epoch 6/19\n",
      " - 1s - loss: 0.0722 - acc: 0.8154 - val_loss: 0.0855 - val_acc: 0.8133\n",
      "Epoch 7/19\n",
      " - 1s - loss: 0.0722 - acc: 0.8154 - val_loss: 0.0857 - val_acc: 0.8133\n",
      "Epoch 8/19\n",
      " - 1s - loss: 0.0723 - acc: 0.8154 - val_loss: 0.0858 - val_acc: 0.8133\n",
      "Epoch 9/19\n",
      " - 1s - loss: 0.0723 - acc: 0.8154 - val_loss: 0.0859 - val_acc: 0.8133\n",
      "Epoch 10/19\n",
      " - 1s - loss: 0.0723 - acc: 0.8154 - val_loss: 0.0857 - val_acc: 0.8132\n",
      "Epoch 11/19\n",
      " - 1s - loss: 0.0723 - acc: 0.8154 - val_loss: 0.0856 - val_acc: 0.8133\n",
      "Epoch 12/19\n",
      " - 1s - loss: 0.0723 - acc: 0.8154 - val_loss: 0.0856 - val_acc: 0.8132\n",
      "Epoch 13/19\n",
      " - 1s - loss: 0.0723 - acc: 0.8154 - val_loss: 0.0855 - val_acc: 0.8132\n",
      "Epoch 14/19\n",
      " - 1s - loss: 0.0722 - acc: 0.8154 - val_loss: 0.0858 - val_acc: 0.8133\n",
      "Epoch 15/19\n",
      " - 1s - loss: 0.0723 - acc: 0.8154 - val_loss: 0.0858 - val_acc: 0.8133\n",
      "Epoch 16/19\n",
      " - 1s - loss: 0.0722 - acc: 0.8154 - val_loss: 0.0857 - val_acc: 0.8132\n",
      "Epoch 17/19\n",
      " - 1s - loss: 0.0722 - acc: 0.8154 - val_loss: 0.0856 - val_acc: 0.8133\n",
      "Epoch 18/19\n",
      " - 1s - loss: 0.0722 - acc: 0.8154 - val_loss: 0.0857 - val_acc: 0.8133\n",
      "Epoch 19/19\n",
      " - 1s - loss: 0.0722 - acc: 0.8154 - val_loss: 0.0862 - val_acc: 0.8133\n"
     ]
    }
   ],
   "source": [
    "# Use best parameters found above\n",
    "autoencoder = Model(input_img, decoded)\n",
    "autoencoder.compile(optimizer='adam', loss='binary_crossentropy', metrics=['accuracy'])\n",
    "        \n",
    "history = autoencoder.fit(x_train, x_train,\n",
    "                          epochs=best_epoch, batch_size=best_batch_size,\n",
    "                          shuffle=True, verbose = 2,\n",
    "                          validation_data=(x_validation, x_validation))"
   ]
  },
  {
   "cell_type": "markdown",
   "metadata": {},
   "source": [
    "Now that the autoencoder is trained, we want to get a bit of insight into how it is encoding and decoding data. This is plotted below."
   ]
  },
  {
   "cell_type": "code",
   "execution_count": 7,
   "metadata": {},
   "outputs": [
    {
     "data": {
      "image/png": "[encoded data removed]",
      "text/plain": [
       "<Figure size 2880x288 with 30 Axes>"
      ]
     },
     "metadata": {
      "needs_background": "light"
     },
     "output_type": "display_data"
    }
   ],
   "source": [
    "# Plot images\n",
    "encoded_images = encoder.predict(x_train_input)\n",
    "decoded_images = autoencoder.predict(x_train_input)\n",
    "\n",
    "plt.figure(figsize=(40, 4))\n",
    "for i in range(10):\n",
    "    # Display original images\n",
    "    ax = plt.subplot(3, 20, i + 1)\n",
    "    plt.imshow(x_train_input[i].reshape(28, 28))\n",
    "    plt.gray()\n",
    "    ax.get_xaxis().set_visible(False)\n",
    "    ax.get_yaxis().set_visible(False)\n",
    "    \n",
    "    # Display encoded images\n",
    "    ax = plt.subplot(3, 20, i + 1 + 20)\n",
    "    plt.imshow(encoded_images[i].reshape(9,5))\n",
    "    plt.gray()\n",
    "    ax.get_xaxis().set_visible(False)\n",
    "    ax.get_yaxis().set_visible(False)\n",
    "    \n",
    "    # Display decoded images\n",
    "    ax = plt.subplot(3, 20, 2*20 +i+ 1)\n",
    "    plt.imshow(decoded_images[i].reshape(28, 28))\n",
    "    plt.gray()\n",
    "    ax.get_xaxis().set_visible(False)\n",
    "    ax.get_yaxis().set_visible(False)\n",
    "    \n",
    "plt.show()"
   ]
  },
  {
   "cell_type": "markdown",
   "metadata": {},
   "source": [
    "## Adding the ANN\n",
    "Now that the autoencoding part is done, we add the ANN part from exercise 4. We start with only the \"encoding\" part of the autoencoder, indicated by `autoencoder.layers[-3].output`."
   ]
  },
  {
   "cell_type": "code",
   "execution_count": 8,
   "metadata": {},
   "outputs": [
    {
     "name": "stdout",
     "output_type": "stream",
     "text": [
      "_________________________________________________________________\n",
      "Layer (type)                 Output Shape              Param #   \n",
      "=================================================================\n",
      "input_1 (InputLayer)         (None, 784)               0         \n",
      "_________________________________________________________________\n",
      "dense_1 (Dense)              (None, 200)               157000    \n",
      "_________________________________________________________________\n",
      "dense_2 (Dense)              (None, 45)                9045      \n",
      "=================================================================\n",
      "Total params: 166,045\n",
      "Trainable params: 166,045\n",
      "Non-trainable params: 0\n",
      "_________________________________________________________________\n"
     ]
    }
   ],
   "source": [
    "full_model = Model(autoencoder.input, autoencoder.layers[-3].output)\n",
    "full_model.summary()"
   ]
  },
  {
   "cell_type": "markdown",
   "metadata": {},
   "source": [
    "We now take the number of hidden nodes as we chose in Exercise 4, being 20. Then, we add a hidden layer `layer_1` with this number of nodes to the network., after which we add an output layer, being `layer_2`."
   ]
  },
  {
   "cell_type": "code",
   "execution_count": 9,
   "metadata": {},
   "outputs": [
    {
     "name": "stdout",
     "output_type": "stream",
     "text": [
      "_________________________________________________________________\n",
      "Layer (type)                 Output Shape              Param #   \n",
      "=================================================================\n",
      "input_1 (InputLayer)         (None, 784)               0         \n",
      "_________________________________________________________________\n",
      "dense_1 (Dense)              (None, 200)               157000    \n",
      "_________________________________________________________________\n",
      "dense_2 (Dense)              (None, 45)                9045      \n",
      "_________________________________________________________________\n",
      "dense_5 (Dense)              (None, 20)                920       \n",
      "_________________________________________________________________\n",
      "dense_6 (Dense)              (None, 10)                210       \n",
      "=================================================================\n",
      "Total params: 167,175\n",
      "Trainable params: 167,175\n",
      "Non-trainable params: 0\n",
      "_________________________________________________________________\n"
     ]
    }
   ],
   "source": [
    "H = 20 # H = 20 from exercise 4\n",
    "\n",
    "layer_1 = Dense(H, activation='relu')(full_model.layers[-1].output)\n",
    "layer_2 = Dense(10, activation = 'softmax')(layer_1)\n",
    "full_model = Model(input_img, layer_2)\n",
    "full_model.summary()\n",
    "full_model.compile(optimizer='adam', loss='binary_crossentropy', metrics=['accuracy'])"
   ]
  },
  {
   "cell_type": "markdown",
   "metadata": {},
   "source": [
    "Finally, the model is fitted on the training data."
   ]
  },
  {
   "cell_type": "code",
   "execution_count": 10,
   "metadata": {
    "scrolled": true
   },
   "outputs": [
    {
     "name": "stdout",
     "output_type": "stream",
     "text": [
      "Train on 50000 samples, validate on 5000 samples\n",
      "Epoch 1/19\n",
      " - 6s - loss: 0.1122 - acc: 0.9629 - val_loss: 0.0419 - val_acc: 0.9860\n",
      "Epoch 2/19\n",
      " - 4s - loss: 0.0321 - acc: 0.9894 - val_loss: 0.0294 - val_acc: 0.9905\n",
      "Epoch 3/19\n",
      " - 4s - loss: 0.0221 - acc: 0.9927 - val_loss: 0.0279 - val_acc: 0.9905\n",
      "Epoch 4/19\n",
      " - 4s - loss: 0.0172 - acc: 0.9944 - val_loss: 0.0213 - val_acc: 0.9930\n",
      "Epoch 5/19\n",
      " - 4s - loss: 0.0136 - acc: 0.9955 - val_loss: 0.0223 - val_acc: 0.9928\n",
      "Epoch 6/19\n",
      " - 4s - loss: 0.0109 - acc: 0.9965 - val_loss: 0.0195 - val_acc: 0.9936\n",
      "Epoch 7/19\n",
      " - 3s - loss: 0.0092 - acc: 0.9971 - val_loss: 0.0209 - val_acc: 0.9935\n",
      "Epoch 8/19\n",
      " - 4s - loss: 0.0074 - acc: 0.9976 - val_loss: 0.0206 - val_acc: 0.9937\n",
      "Epoch 9/19\n",
      " - 4s - loss: 0.0060 - acc: 0.9981 - val_loss: 0.0211 - val_acc: 0.9934\n",
      "Epoch 10/19\n",
      " - 4s - loss: 0.0053 - acc: 0.9983 - val_loss: 0.0197 - val_acc: 0.9943\n",
      "Epoch 11/19\n",
      " - 4s - loss: 0.0043 - acc: 0.9986 - val_loss: 0.0203 - val_acc: 0.9937\n",
      "Epoch 12/19\n",
      " - 4s - loss: 0.0033 - acc: 0.9991 - val_loss: 0.0203 - val_acc: 0.9941\n",
      "Epoch 13/19\n",
      " - 4s - loss: 0.0033 - acc: 0.9989 - val_loss: 0.0204 - val_acc: 0.9945\n",
      "Epoch 14/19\n",
      " - 4s - loss: 0.0027 - acc: 0.9991 - val_loss: 0.0214 - val_acc: 0.9944\n",
      "Epoch 15/19\n",
      " - 4s - loss: 0.0020 - acc: 0.9994 - val_loss: 0.0227 - val_acc: 0.9941\n",
      "Epoch 16/19\n",
      " - 3s - loss: 0.0029 - acc: 0.9991 - val_loss: 0.0210 - val_acc: 0.9948\n",
      "Epoch 17/19\n",
      " - 3s - loss: 0.0016 - acc: 0.9995 - val_loss: 0.0207 - val_acc: 0.9947\n",
      "Epoch 18/19\n",
      " - 3s - loss: 0.0022 - acc: 0.9993 - val_loss: 0.0228 - val_acc: 0.9945\n",
      "Epoch 19/19\n",
      " - 4s - loss: 0.0020 - acc: 0.9994 - val_loss: 0.0276 - val_acc: 0.9938\n"
     ]
    }
   ],
   "source": [
    "history = full_model.fit(x_train_input, y_train_input_ohe,\n",
    "                         epochs=15, batch_size=best_batch_size,\n",
    "                         shuffle=True, verbose=2,\n",
    "                         validation_data=(x_validation, y_validation_ohe))"
   ]
  },
  {
   "cell_type": "markdown",
   "metadata": {},
   "source": [
    "Lastly, we want to visualise our results. After fitting it for 19 epochs (from the grid search earlier), it looks like it is overfitting after 15 epochs (so we adjusted it above). As such, the plots below are made for a maximum epochs number of 15."
   ]
  },
  {
   "cell_type": "code",
   "execution_count": 11,
   "metadata": {},
   "outputs": [
    {
     "data": {
      "image/png": "[encoded data removed]",
      "text/plain": [
       "<Figure size 432x288 with 1 Axes>"
      ]
     },
     "metadata": {
      "needs_background": "light"
     },
     "output_type": "display_data"
    }
   ],
   "source": [
    "# Plot training & validation accuracy values\n",
    "plt.plot(history.history['acc'])\n",
    "plt.plot(history.history['val_acc'])\n",
    "plt.title('Model accuracy')\n",
    "plt.ylabel('Accuracy')\n",
    "plt.xlabel('Epoch')\n",
    "plt.legend(['Train', 'Test'], loc='upper left')\n",
    "plt.show()"
   ]
  },
  {
   "cell_type": "code",
   "execution_count": 12,
   "metadata": {},
   "outputs": [
    {
     "data": {
      "image/png": "[encoded data removed]",
      "text/plain": [
       "<Figure size 432x288 with 1 Axes>"
      ]
     },
     "metadata": {
      "needs_background": "light"
     },
     "output_type": "display_data"
    }
   ],
   "source": [
    "# Plot training & validation loss values\n",
    "plt.plot(history.history['loss'])\n",
    "plt.plot(history.history['val_loss'])\n",
    "plt.title('Model loss')\n",
    "plt.ylabel('Loss')\n",
    "plt.xlabel('Epoch')\n",
    "plt.legend(['Train', 'Test'], loc='upper left')\n",
    "plt.show()"
   ]
  },
  {
   "cell_type": "markdown",
   "metadata": {},
   "source": [
    "As a final touch, we want to know the accuracy of our model on the test set:"
   ]
  },
  {
   "cell_type": "code",
   "execution_count": 13,
   "metadata": {},
   "outputs": [
    {
     "name": "stdout",
     "output_type": "stream",
     "text": [
      "10000/10000 [==============================] - 1s 88us/step\n",
      "Accuracy on the test set: 0.9948699989318848\n"
     ]
    }
   ],
   "source": [
    "evals = full_model.evaluate(x_test, y_test_ohe)\n",
    "print(f\"Accuracy on the test set: {evals[1]}\")"
   ]
  }
 ],
 "metadata": {
  "kernelspec": {
   "display_name": "Python 3",
   "language": "python",
   "name": "python3"
  },
  "language_info": {
   "codemirror_mode": {
    "name": "ipython",
    "version": 3
   },
   "file_extension": ".py",
   "mimetype": "text/x-python",
   "name": "python",
   "nbconvert_exporter": "python",
   "pygments_lexer": "ipython3",
   "version": "3.7.2"
  }
 },
 "nbformat": 4,
 "nbformat_minor": 2
}
