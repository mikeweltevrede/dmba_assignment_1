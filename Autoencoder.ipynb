{
 "cells": [
  {
   "cell_type": "code",
   "execution_count": 1,
   "metadata": {},
   "outputs": [
    {
     "name": "stderr",
     "output_type": "stream",
     "text": [
      "Using TensorFlow backend.\n"
     ]
    }
   ],
   "source": [
    "import numpy as np\n",
    "import pandas as pd\n",
    "import matplotlib.pyplot as plt\n",
    "\n",
    "from keras.layers import Input, Dense\n",
    "from keras.models import Model"
   ]
  },
  {
   "cell_type": "code",
   "execution_count": 2,
   "metadata": {},
   "outputs": [],
   "source": [
    "encoding_dim = 200\n",
    "encoding_dim_2 = 45\n",
    "image_length = 784"
   ]
  },
  {
   "cell_type": "code",
   "execution_count": 18,
   "metadata": {},
   "outputs": [],
   "source": [
    "# Import and convert data to percentage points\n",
    "x_train = pd.read_csv(\"data/mnist_train.csv\", header = None)\n",
    "y_train = x_train.loc[:, 0].to_numpy()\n",
    "x_train = x_train.loc[:, 1:].to_numpy()\n",
    "x_train = x_train.astype('float32') / 255.\n",
    "\n",
    "x_test = pd.read_csv(\"data/mnist_test.csv\", header = None)\n",
    "y_test = x_test.loc[:, 0].to_numpy()\n",
    "x_test = x_test.loc[:, 1:].to_numpy()\n",
    "x_test = x_test.astype('float32') / 255.\n",
    "\n",
    "# Take sample\n",
    "x_validation = x_train[5000:10000, :]\n",
    "x_train_input = x_train[10000:, :]\n",
    "x_train = x_train[:5000, :]"
   ]
  },
  {
   "cell_type": "code",
   "execution_count": 17,
   "metadata": {},
   "outputs": [
    {
     "data": {
      "text/plain": [
       "(0, 784)"
      ]
     },
     "execution_count": 17,
     "metadata": {},
     "output_type": "execute_result"
    }
   ],
   "source": [
    "x_validation.shape"
   ]
  },
  {
   "cell_type": "code",
   "execution_count": 19,
   "metadata": {},
   "outputs": [
    {
     "name": "stdout",
     "output_type": "stream",
     "text": [
      "Train on 5000 samples, validate on 5000 samples\n",
      "Epoch 1/20\n",
      "5000/5000 [==============================] - 3s 575us/step - loss: 0.2576 - acc: 0.7849 - val_loss: 0.1818 - val_acc: 0.7978\n",
      "Epoch 2/20\n",
      "5000/5000 [==============================] - 2s 308us/step - loss: 0.1592 - acc: 0.8039 - val_loss: 0.1460 - val_acc: 0.8049\n",
      "Epoch 3/20\n",
      "5000/5000 [==============================] - 2s 301us/step - loss: 0.1343 - acc: 0.8086 - val_loss: 0.1294 - val_acc: 0.8087\n",
      "Epoch 4/20\n",
      "5000/5000 [==============================] - 2s 307us/step - loss: 0.1210 - acc: 0.8107 - val_loss: 0.1186 - val_acc: 0.8099\n",
      "Epoch 5/20\n",
      "5000/5000 [==============================] - 2s 309us/step - loss: 0.1134 - acc: 0.8118 - val_loss: 0.1127 - val_acc: 0.8102\n",
      "Epoch 6/20\n",
      "5000/5000 [==============================] - 2s 315us/step - loss: 0.1077 - acc: 0.8125 - val_loss: 0.1081 - val_acc: 0.8110\n",
      "Epoch 7/20\n",
      "5000/5000 [==============================] - 2s 339us/step - loss: 0.1034 - acc: 0.8130 - val_loss: 0.1055 - val_acc: 0.8110\n",
      "Epoch 8/20\n",
      "5000/5000 [==============================] - 2s 341us/step - loss: 0.1001 - acc: 0.8133 - val_loss: 0.1023 - val_acc: 0.8119\n",
      "Epoch 9/20\n",
      "5000/5000 [==============================] - 2s 327us/step - loss: 0.0976 - acc: 0.8136 - val_loss: 0.1013 - val_acc: 0.8122\n",
      "Epoch 10/20\n",
      "5000/5000 [==============================] - 2s 325us/step - loss: 0.0957 - acc: 0.8138 - val_loss: 0.0990 - val_acc: 0.8120\n",
      "Epoch 11/20\n",
      "5000/5000 [==============================] - 2s 326us/step - loss: 0.0941 - acc: 0.8140 - val_loss: 0.0976 - val_acc: 0.8121\n",
      "Epoch 12/20\n",
      "5000/5000 [==============================] - 2s 326us/step - loss: 0.0928 - acc: 0.8141 - val_loss: 0.0966 - val_acc: 0.8124\n",
      "Epoch 13/20\n",
      "5000/5000 [==============================] - 2s 327us/step - loss: 0.0917 - acc: 0.8142 - val_loss: 0.0958 - val_acc: 0.8122\n",
      "Epoch 14/20\n",
      "5000/5000 [==============================] - 2s 329us/step - loss: 0.0908 - acc: 0.8143 - val_loss: 0.0948 - val_acc: 0.8123\n",
      "Epoch 15/20\n",
      "5000/5000 [==============================] - 2s 326us/step - loss: 0.0899 - acc: 0.8143 - val_loss: 0.0941 - val_acc: 0.8127\n",
      "Epoch 16/20\n",
      "5000/5000 [==============================] - 2s 339us/step - loss: 0.0892 - acc: 0.8144 - val_loss: 0.0943 - val_acc: 0.8125\n",
      "Epoch 17/20\n",
      "5000/5000 [==============================] - 2s 406us/step - loss: 0.0885 - acc: 0.8144 - val_loss: 0.0934 - val_acc: 0.8126\n",
      "Epoch 18/20\n",
      "5000/5000 [==============================] - 2s 374us/step - loss: 0.0880 - acc: 0.8145 - val_loss: 0.0953 - val_acc: 0.8128\n",
      "Epoch 19/20\n",
      "5000/5000 [==============================] - 2s 355us/step - loss: 0.0874 - acc: 0.8145 - val_loss: 0.0926 - val_acc: 0.8126\n",
      "Epoch 20/20\n",
      "5000/5000 [==============================] - 2s 381us/step - loss: 0.0870 - acc: 0.8146 - val_loss: 0.0918 - val_acc: 0.8128\n"
     ]
    }
   ],
   "source": [
    "input_img = Input(shape = (image_length,))\n",
    "encoded = Dense(encoding_dim, activation='relu')(input_img)\n",
    "encoded = Dense(encoding_dim_2, activation='relu')(encoded)\n",
    "\n",
    "decoded = Dense(encoding_dim, activation='relu')(encoded)\n",
    "decoded = Dense(image_length, activation='sigmoid')(decoded)\n",
    "\n",
    "autoencoder = Model(input_img, decoded)\n",
    "autoencoder.compile(optimizer='adam', loss='binary_crossentropy', metrics=['accuracy'])\n",
    "\n",
    "autoencoder.fit(x_train, x_train,\n",
    "                epochs=20,\n",
    "                batch_size=32,\n",
    "                shuffle=True,\n",
    "                validation_data=(x_validation, x_validation))\n",
    "\n",
    "predictions = autoencoder.predict(x_train_input)"
   ]
  },
  {
   "cell_type": "code",
   "execution_count": 22,
   "metadata": {},
   "outputs": [
    {
     "data": {
      "image/png": "[encoded data removed]",
      "text/plain": [
       "<Figure size 1440x288 with 20 Axes>"
      ]
     },
     "metadata": {
      "needs_background": "light"
     },
     "output_type": "display_data"
    }
   ],
   "source": [
    "import matplotlib.pyplot as plt\n",
    "\n",
    "n = 10  # how many digits we will display\n",
    "plt.figure(figsize=(2*n, 4))\n",
    "for i in range(n):\n",
    "    # display original\n",
    "    ax = plt.subplot(2, n, i + 1)\n",
    "    plt.imshow(x_train_input[i].reshape(28, 28))\n",
    "    plt.gray()\n",
    "    ax.get_xaxis().set_visible(False)\n",
    "    ax.get_yaxis().set_visible(False)\n",
    "\n",
    "    # display reconstruction\n",
    "    ax = plt.subplot(2, n, i + 1 + n)\n",
    "    plt.imshow(predictions[i].reshape(28, 28))\n",
    "    plt.gray()\n",
    "    ax.get_xaxis().set_visible(False)\n",
    "    ax.get_yaxis().set_visible(False)\n",
    "plt.show()"
   ]
  },
  {
   "cell_type": "code",
   "execution_count": 23,
   "metadata": {
    "scrolled": true
   },
   "outputs": [
    {
     "data": {
      "text/plain": [
       "(50000, 784)"
      ]
     },
     "execution_count": 23,
     "metadata": {},
     "output_type": "execute_result"
    }
   ],
   "source": [
    "predictions.shape"
   ]
  },
  {
   "cell_type": "code",
   "execution_count": 25,
   "metadata": {},
   "outputs": [],
   "source": [
    "np.savetxt(\"data/output_neural_net.csv\", predictions, delimiter=\",\")"
   ]
  }
 ],
 "metadata": {
  "kernelspec": {
   "display_name": "Python 3",
   "language": "python",
   "name": "python3"
  },
  "language_info": {
   "codemirror_mode": {
    "name": "ipython",
    "version": 3
   },
   "file_extension": ".py",
   "mimetype": "text/x-python",
   "name": "python",
   "nbconvert_exporter": "python",
   "pygments_lexer": "ipython3",
   "version": "3.7.2"
  }
 },
 "nbformat": 4,
 "nbformat_minor": 2
}
